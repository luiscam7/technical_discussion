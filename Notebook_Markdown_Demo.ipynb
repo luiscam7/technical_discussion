{
  "nbformat": 4,
  "nbformat_minor": 0,
  "metadata": {
    "colab": {
      "provenance": [],
      "authorship_tag": "ABX9TyPTgH9zCt1zZpTvZ2QbmmIM",
      "include_colab_link": true
    },
    "kernelspec": {
      "name": "python3",
      "display_name": "Python 3"
    },
    "language_info": {
      "name": "python"
    }
  },
  "cells": [
    {
      "cell_type": "markdown",
      "metadata": {
        "id": "view-in-github",
        "colab_type": "text"
      },
      "source": [
        "<a href=\"https://colab.research.google.com/github/luiscam7/technical_discussion/blob/main/Notebook_Markdown_Demo.ipynb\" target=\"_parent\"><img src=\"https://colab.research.google.com/assets/colab-badge.svg\" alt=\"Open In Colab\"/></a>"
      ]
    },
    {
      "cell_type": "markdown",
      "source": [
        "# Colab **Markdown** Demo\n",
        "\n",
        "## In this exercise I am exploring the markdown feature in a colab notebook\n",
        "\n",
        "### *Demonstration of an image insertion*\n",
        "\n",
        "Here is a picture of a [sunset](https://www.washingtonpost.com/wp-apps/imrs.php?src=https://arc-anglerfish-washpost-prod-washpost.s3.amazonaws.com/public/76XENRBHHW2NXJGTZEM7I7MQN4_size-normalized.jpg&w=1200)\n",
        "\n",
        "> A picture is worth a 1000 words"
      ],
      "metadata": {
        "id": "pJFyZM6Tt_KK"
      }
    },
    {
      "cell_type": "code",
      "execution_count": null,
      "metadata": {
        "colab": {
          "base_uri": "https://localhost:8080/"
        },
        "id": "vy0PCDHTtufV",
        "outputId": "7d52a6f4-9ded-46da-e67a-c50ee8c90b3c"
      },
      "outputs": [
        {
          "output_type": "stream",
          "name": "stdout",
          "text": [
            "Hello World!\n"
          ]
        }
      ],
      "source": [
        "print(\"Hello World!\")"
      ]
    },
    {
      "cell_type": "markdown",
      "source": [
        "Some basic Git commands are:\n",
        "```\n",
        "git status\n",
        "git add\n",
        "git commit\n",
        "```"
      ],
      "metadata": {
        "id": "s0Jc5MNkvd6O"
      }
    }
  ]
}